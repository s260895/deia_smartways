{
 "cells": [
  {
   "cell_type": "code",
   "execution_count": 2,
   "metadata": {},
   "outputs": [],
   "source": [
    "import pandas as pd\n",
    "# preprocessing\n",
    "from sklearn.preprocessing import LabelEncoder, StandardScaler, OneHotEncoder\n",
    "from sklearn.model_selection import train_test_split, cross_validate, ShuffleSplit\n",
    "\n",
    "# models\n",
    "from sklearn.linear_model import LinearRegression\n",
    "from sklearn.svm import SVR\n",
    "from sklearn.ensemble import RandomForestRegressor \n",
    "from sklearn.neural_network import MLPRegressor\n",
    "\n",
    "#pipelines\n",
    "from sklearn.pipeline import make_pipeline, Pipeline\n",
    "from sklearn.compose import make_column_transformer\n"
   ]
  },
  {
   "cell_type": "code",
   "execution_count": 681,
   "metadata": {},
   "outputs": [],
   "source": [
    "arriva_cleaned = pd.read_pickle(\"arriva_cleaned\")\n",
    "y = arriva_cleaned[['Totaal']]\n",
    "X = arriva_cleaned[['Day_num','Source Station','Destination Station']]\n",
    "X_s, _ , y_s, _ = train_test_split(X,y,train_size=0.05,shuffle=True,random_state=1)\n",
    "categorical_features = ['Day_num','Source Station','Destination Station']\n",
    "numerical_features = []"
   ]
  },
  {
   "cell_type": "code",
   "execution_count": 683,
   "metadata": {},
   "outputs": [],
   "source": []
  },
  {
   "cell_type": "code",
   "execution_count": 684,
   "metadata": {},
   "outputs": [],
   "source": [
    "#define regressor pipeline function\n",
    "def regressor_pipeline(estimator):\n",
    "    \n",
    "    # Creating a pipeline with one-hot-encoder for categorical data \n",
    "    categoric_transformer = make_pipeline(OneHotEncoder(sparse=False,handle_unknown='ignore'))\n",
    "\n",
    "    # Creating a pipeline with mean imputer for numerical data \n",
    "    #numeric_transformer =  make_pipeline(StandardScaler())  \n",
    "    \n",
    "    # Combining both pipelines such that each pipeline works on the columns it was meant for\n",
    "    preprocessor = make_column_transformer((categoric_transformer,categorical_features)\n",
    "     )\n",
    "\n",
    "    # Return the complete pipeline containing preprocessing-piepline and the estimator/classifier\n",
    "    return Pipeline(steps = [('prep',preprocessor),('est',estimator)])\n"
   ]
  },
  {
   "cell_type": "code",
   "execution_count": 686,
   "metadata": {},
   "outputs": [],
   "source": [
    "# define 4 regression models to evaluate\n",
    "models = {'linear_regressor': regressor_pipeline(LinearRegression(n_jobs=-1)).fit(X_s,y_s) ,\n",
    "            'neural_net_regressor': regressor_pipeline(MLPRegressor(random_state=1)).fit(X_s,y_s),\n",
    "            #'svm_regressor': regressor_pipeline(SVR()).fit(X_s,y_s),\n",
    "            'rf_regressor': regressor_pipeline(RandomForestRegressor(n_estimators=500,random_state=1)).fit(X_s,y_s)}\n",
    "\n",
    "\n",
    "results = {'linear_regressor':[],\n",
    "                'neural_net_regressor':[],\n",
    "                #'svm_regressor':[],\n",
    "                'rf_regressor':[] \n",
    "          }\n",
    "\n"
   ]
  },
  {
   "cell_type": "code",
   "execution_count": null,
   "metadata": {},
   "outputs": [],
   "source": [
    "for (model_name,model_pipe) in models.items():\n",
    "    \n",
    "    for metric in ['neg_mean_absolute_error','neg_mean_squared_error','r2']:\n",
    "        \n",
    "        results[model_name].append(np.mean(cross_validate(model_pipe,X, y, scoring=metric,cv=ShuffleSplit(n_splits=3,random_state=1),    return_train_score=False)['test_score']))  \n",
    "       \n",
    "res = pd.DataFrame(data=results)\n",
    "res['metrics'] = pd.Series(['mae','mse','r2'])\n",
    "\n",
    "print(res)\n"
   ]
  }
 ],
 "metadata": {
  "kernelspec": {
   "display_name": "Python 3.7.3 64-bit ('base': conda)",
   "language": "python",
   "name": "python37364bitbaseconda5f80219a688f4798b7bb33589d7d3742"
  },
  "language_info": {
   "codemirror_mode": {
    "name": "ipython",
    "version": 3
   },
   "file_extension": ".py",
   "mimetype": "text/x-python",
   "name": "python",
   "nbconvert_exporter": "python",
   "pygments_lexer": "ipython3",
   "version": "3.7.3-final"
  }
 },
 "nbformat": 4,
 "nbformat_minor": 4
}