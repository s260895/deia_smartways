{
 "cells": [
  {
   "cell_type": "code",
   "execution_count": 2,
   "metadata": {},
   "outputs": [],
   "source": [
    "import pandas as pd\n",
    "import numpy as np"
   ]
  },
  {
   "cell_type": "code",
   "execution_count": 3,
   "metadata": {},
   "outputs": [],
   "source": [
    "requests_9292 = pd.read_csv(\"C:\\\\Users\\\\Sumeet Zankar\\\\Downloads\\\\DEIA-1\\\\9292\\\\PNB_Verzoeken.csv\")\n",
    "\n",
    "### 9292 REQUESTS COLUMNS ### (LOG OF ALL REQUESTS MADE ON THE 9292 APP IN NOVEMBER 2019)\n",
    "# QUESTION_TULP_ID : Unique Identifier\n",
    "# Opvraag datum : Request Date\n",
    "# Gewenste reis datum : Desired Travel Date\n",
    "# Opvraag tijd uur : Query time Hours\n",
    "# Gewenste vertrek tijd uur : Desried Departure Time Hours\n",
    "# Halteclusternummer begin reis : Stop Cluster Number Start Journey\n",
    "# Halteclusternummer eind reis : Stop Cluster Number End Journey\n",
    "# Haltenaam begin reis : Stop Name Begin Journey\n",
    "# Haltenaam eind reis : Stop Name End Journey"
   ]
  },
  {
   "cell_type": "code",
   "execution_count": 4,
   "metadata": {},
   "outputs": [],
   "source": [
    "advices_9292 = pd.read_csv(\"C:\\\\Users\\\\Sumeet Zankar\\\\Downloads\\\\DEIA-1\\\\9292\\\\PNB_Adviezen.csv\")\n",
    "\n",
    "### 9292 ADVICES COLUMNS ### (LOG OF ALL ADVICES GENERATED ON EACH OF THE PREVIOUS REQUESTS)\n",
    "# QUESTION_TULP_ID : Unique Request Identifier\n",
    "# Lag nummer : Lay number\n",
    "# Lijn : Line\n",
    "# Modaliteitsnummer : Modality Number\n",
    "# Haltenummer van rit : Stop Number of Trip\n",
    "# Haltenummer naar rit : Stop Number to Trip\n",
    "# Reistijd lag : Travel Time \n",
    "# Startdatum lag : Start Date\n",
    "# Starttijd lag : Start Time\n",
    "# Haltenaam van rit : Stop Name of trip - Origin\n",
    "# Haltenaam naar rit : Stop Name to trip - Destination\n",
    "# Modaliteit : Modality\n",
    "# Modaliteit Detail : Modality Detail"
   ]
  },
  {
   "cell_type": "code",
   "execution_count": 5,
   "metadata": {},
   "outputs": [],
   "source": [
    "arriva_passenger_data = pd.read_csv(\"C:\\\\Users\\\\Sumeet Zankar\\\\Downloads\\\\DEIA-1\\\\bus data\\\\Bus_OD_data_WestOostBrabant_2019_11.csv\",sep=';')\n",
    "\n",
    "### ARRIVA PASSENGER DATA COLUMNS ### (ACTUAL BUS CHECK-IN NUMBERS FOR ALL BUSES THROUGH NOVEMBER 2019)\n",
    "# Exploitatiedatum : Operating Date\n",
    "# Concessie : Concession\n",
    "# Lijnnummer : Line Number\n",
    "# Station Herkomst : Origin Station\n",
    "# Station : Current Station\n",
    "# Totaal : Total Occupancy"
   ]
  },
  {
   "cell_type": "code",
   "execution_count": 6,
   "metadata": {},
   "outputs": [],
   "source": [
    "bus_line_information = pd.read_csv(\"C:\\\\Users\\\\Sumeet Zankar\\\\Downloads\\\\DEIA-1\\\\bus data\\\\lijnnummer_koppeling.csv\",sep=';')\n",
    "\n",
    "### BUS LINE INFORMATION COLUMNS ### (EXTRA INFORMATION ON EACH BUS LINE NUMBER)\n",
    "# Concessie : Concession\n",
    "# InternLijnnummer : Internal Line Number (Used by arriva)\n",
    "# PublieksLijnnummer : Public Line Number (Visible to the public and on 9292 app)\n",
    "# Omschrijving : Description\n",
    "# Type : Bus Line Type"
   ]
  },
  {
   "cell_type": "code",
   "execution_count": null,
   "metadata": {},
   "outputs": [],
   "source": []
  },
  {
   "cell_type": "code",
   "execution_count": 34,
   "metadata": {},
   "outputs": [
    {
     "output_type": "execute_result",
     "data": {
      "text/plain": [
       "                               QUESTION_TULP_ID  Lag_nummer  Lijn  \\\n",
       "0        {E58F78C9-D674-486F-A222-3FA1DAC3CE85}           1  2295   \n",
       "1        {E58F78C9-D674-486F-A222-3FA1DAC3CE85}           2  1406   \n",
       "2        {BC748CDF-7A8F-4EA0-9ED3-472270E6C7FC}           1  1128   \n",
       "3        {6602FD57-C79D-4B65-BCB1-F932296599D1}           1  1134   \n",
       "4        {CDBFB3E7-7300-43C1-9E85-EAE6121F67A1}           1   NaN   \n",
       "...                                         ...         ...   ...   \n",
       "5797058  {0F71A354-3657-426E-93B4-FB1152311EE7}           1   NaN   \n",
       "5797059  {0F71A354-3657-426E-93B4-FB1152311EE7}           2   316   \n",
       "5797060  {3570F134-CB54-41CE-A274-D803946FF903}           1  3632   \n",
       "5797061  {19C5BE47-829E-4739-9F40-2F2E5A6AB58D}           1  6688   \n",
       "5797062  {9CFA523E-9D14-4D5D-975C-26A93B619E38}           1  6640   \n",
       "\n",
       "         Modaliteitsnummer Haltenummer_van_rit Haltenummer_naar_rit  \\\n",
       "0                       25                 rsd                  rtd   \n",
       "1                       25                 rtd                  asd   \n",
       "2                       25                  bd                  gvc   \n",
       "3                       25                  bd                  gvc   \n",
       "4                       51                 NaN              7290006   \n",
       "...                    ...                 ...                  ...   \n",
       "5797058                 51                 NaN              7220941   \n",
       "5797059                  2             7220941              7200901   \n",
       "5797060                 25                 etn                   bd   \n",
       "5797061                127                bdpb                  tbu   \n",
       "5797062                127                bdpb                  tbu   \n",
       "\n",
       "         Reistijd_lag Startdatum_lag Starttijd_lag  \\\n",
       "0                  38     2019-11-01         00:01   \n",
       "1                  80     2019-11-01         00:56   \n",
       "2                  49     2019-11-01         09:53   \n",
       "3                  49     2019-11-01         11:23   \n",
       "4                   1            NaN           NaN   \n",
       "...               ...            ...           ...   \n",
       "5797058             1            NaN           NaN   \n",
       "5797059            36     2019-12-01         09:33   \n",
       "5797060             9     2019-12-01         09:36   \n",
       "5797061            22     2019-12-01         00:16   \n",
       "5797062            22     2019-12-01         12:16   \n",
       "\n",
       "                       Haltenaam_van_rit                Haltenaam_naar_rit  \\\n",
       "0                Roosendaal , Roosendaal    Rotterdam Centraal , Rotterdam   \n",
       "1         Rotterdam Centraal , Rotterdam    Amsterdam Centraal , Amsterdam   \n",
       "2                          Breda , Breda  Den Haag Centraal , s-Gravenhage   \n",
       "3                          Breda , Breda  Den Haag Centraal , s-Gravenhage   \n",
       "4                               Onbekend          Station , Bergen op Zoom   \n",
       "...                                  ...                               ...   \n",
       "5797058                         Onbekend              Station , Etten-Leur   \n",
       "5797059             Station , Etten-Leur                   station , Breda   \n",
       "5797060          Etten-Leur , Etten-Leur                     Breda , Breda   \n",
       "5797061  Breda-Prinsenbeek , Prinsenbeek    Tilburg Universiteit , Tilburg   \n",
       "5797062  Breda-Prinsenbeek , Prinsenbeek    Tilburg Universiteit , Tilburg   \n",
       "\n",
       "                   Modaliteit     Modaliteit_detail  \n",
       "0                       Trein             Intercity  \n",
       "1                       Trein             Intercity  \n",
       "2                       Trein             Intercity  \n",
       "3                       Trein             Intercity  \n",
       "4        Lopen als modaliteit  Lopen als modaliteit  \n",
       "...                       ...                   ...  \n",
       "5797058  Lopen als modaliteit  Lopen als modaliteit  \n",
       "5797059                   Bus                   Bus  \n",
       "5797060                 Trein             Intercity  \n",
       "5797061                 Trein              Sprinter  \n",
       "5797062                 Trein              Sprinter  \n",
       "\n",
       "[5797063 rows x 13 columns]"
      ],
      "text/html": "<div>\n<style scoped>\n    .dataframe tbody tr th:only-of-type {\n        vertical-align: middle;\n    }\n\n    .dataframe tbody tr th {\n        vertical-align: top;\n    }\n\n    .dataframe thead th {\n        text-align: right;\n    }\n</style>\n<table border=\"1\" class=\"dataframe\">\n  <thead>\n    <tr style=\"text-align: right;\">\n      <th></th>\n      <th>QUESTION_TULP_ID</th>\n      <th>Lag_nummer</th>\n      <th>Lijn</th>\n      <th>Modaliteitsnummer</th>\n      <th>Haltenummer_van_rit</th>\n      <th>Haltenummer_naar_rit</th>\n      <th>Reistijd_lag</th>\n      <th>Startdatum_lag</th>\n      <th>Starttijd_lag</th>\n      <th>Haltenaam_van_rit</th>\n      <th>Haltenaam_naar_rit</th>\n      <th>Modaliteit</th>\n      <th>Modaliteit_detail</th>\n    </tr>\n  </thead>\n  <tbody>\n    <tr>\n      <th>0</th>\n      <td>{E58F78C9-D674-486F-A222-3FA1DAC3CE85}</td>\n      <td>1</td>\n      <td>2295</td>\n      <td>25</td>\n      <td>rsd</td>\n      <td>rtd</td>\n      <td>38</td>\n      <td>2019-11-01</td>\n      <td>00:01</td>\n      <td>Roosendaal , Roosendaal</td>\n      <td>Rotterdam Centraal , Rotterdam</td>\n      <td>Trein</td>\n      <td>Intercity</td>\n    </tr>\n    <tr>\n      <th>1</th>\n      <td>{E58F78C9-D674-486F-A222-3FA1DAC3CE85}</td>\n      <td>2</td>\n      <td>1406</td>\n      <td>25</td>\n      <td>rtd</td>\n      <td>asd</td>\n      <td>80</td>\n      <td>2019-11-01</td>\n      <td>00:56</td>\n      <td>Rotterdam Centraal , Rotterdam</td>\n      <td>Amsterdam Centraal , Amsterdam</td>\n      <td>Trein</td>\n      <td>Intercity</td>\n    </tr>\n    <tr>\n      <th>2</th>\n      <td>{BC748CDF-7A8F-4EA0-9ED3-472270E6C7FC}</td>\n      <td>1</td>\n      <td>1128</td>\n      <td>25</td>\n      <td>bd</td>\n      <td>gvc</td>\n      <td>49</td>\n      <td>2019-11-01</td>\n      <td>09:53</td>\n      <td>Breda , Breda</td>\n      <td>Den Haag Centraal , s-Gravenhage</td>\n      <td>Trein</td>\n      <td>Intercity</td>\n    </tr>\n    <tr>\n      <th>3</th>\n      <td>{6602FD57-C79D-4B65-BCB1-F932296599D1}</td>\n      <td>1</td>\n      <td>1134</td>\n      <td>25</td>\n      <td>bd</td>\n      <td>gvc</td>\n      <td>49</td>\n      <td>2019-11-01</td>\n      <td>11:23</td>\n      <td>Breda , Breda</td>\n      <td>Den Haag Centraal , s-Gravenhage</td>\n      <td>Trein</td>\n      <td>Intercity</td>\n    </tr>\n    <tr>\n      <th>4</th>\n      <td>{CDBFB3E7-7300-43C1-9E85-EAE6121F67A1}</td>\n      <td>1</td>\n      <td>NaN</td>\n      <td>51</td>\n      <td>NaN</td>\n      <td>7290006</td>\n      <td>1</td>\n      <td>NaN</td>\n      <td>NaN</td>\n      <td>Onbekend</td>\n      <td>Station , Bergen op Zoom</td>\n      <td>Lopen als modaliteit</td>\n      <td>Lopen als modaliteit</td>\n    </tr>\n    <tr>\n      <th>...</th>\n      <td>...</td>\n      <td>...</td>\n      <td>...</td>\n      <td>...</td>\n      <td>...</td>\n      <td>...</td>\n      <td>...</td>\n      <td>...</td>\n      <td>...</td>\n      <td>...</td>\n      <td>...</td>\n      <td>...</td>\n      <td>...</td>\n    </tr>\n    <tr>\n      <th>5797058</th>\n      <td>{0F71A354-3657-426E-93B4-FB1152311EE7}</td>\n      <td>1</td>\n      <td>NaN</td>\n      <td>51</td>\n      <td>NaN</td>\n      <td>7220941</td>\n      <td>1</td>\n      <td>NaN</td>\n      <td>NaN</td>\n      <td>Onbekend</td>\n      <td>Station , Etten-Leur</td>\n      <td>Lopen als modaliteit</td>\n      <td>Lopen als modaliteit</td>\n    </tr>\n    <tr>\n      <th>5797059</th>\n      <td>{0F71A354-3657-426E-93B4-FB1152311EE7}</td>\n      <td>2</td>\n      <td>316</td>\n      <td>2</td>\n      <td>7220941</td>\n      <td>7200901</td>\n      <td>36</td>\n      <td>2019-12-01</td>\n      <td>09:33</td>\n      <td>Station , Etten-Leur</td>\n      <td>station , Breda</td>\n      <td>Bus</td>\n      <td>Bus</td>\n    </tr>\n    <tr>\n      <th>5797060</th>\n      <td>{3570F134-CB54-41CE-A274-D803946FF903}</td>\n      <td>1</td>\n      <td>3632</td>\n      <td>25</td>\n      <td>etn</td>\n      <td>bd</td>\n      <td>9</td>\n      <td>2019-12-01</td>\n      <td>09:36</td>\n      <td>Etten-Leur , Etten-Leur</td>\n      <td>Breda , Breda</td>\n      <td>Trein</td>\n      <td>Intercity</td>\n    </tr>\n    <tr>\n      <th>5797061</th>\n      <td>{19C5BE47-829E-4739-9F40-2F2E5A6AB58D}</td>\n      <td>1</td>\n      <td>6688</td>\n      <td>127</td>\n      <td>bdpb</td>\n      <td>tbu</td>\n      <td>22</td>\n      <td>2019-12-01</td>\n      <td>00:16</td>\n      <td>Breda-Prinsenbeek , Prinsenbeek</td>\n      <td>Tilburg Universiteit , Tilburg</td>\n      <td>Trein</td>\n      <td>Sprinter</td>\n    </tr>\n    <tr>\n      <th>5797062</th>\n      <td>{9CFA523E-9D14-4D5D-975C-26A93B619E38}</td>\n      <td>1</td>\n      <td>6640</td>\n      <td>127</td>\n      <td>bdpb</td>\n      <td>tbu</td>\n      <td>22</td>\n      <td>2019-12-01</td>\n      <td>12:16</td>\n      <td>Breda-Prinsenbeek , Prinsenbeek</td>\n      <td>Tilburg Universiteit , Tilburg</td>\n      <td>Trein</td>\n      <td>Sprinter</td>\n    </tr>\n  </tbody>\n</table>\n<p>5797063 rows × 13 columns</p>\n</div>"
     },
     "metadata": {},
     "execution_count": 34
    }
   ],
   "source": [
    "advices_9292"
   ]
  },
  {
   "cell_type": "code",
   "execution_count": null,
   "metadata": {},
   "outputs": [],
   "source": []
  },
  {
   "cell_type": "code",
   "execution_count": 8,
   "metadata": {},
   "outputs": [],
   "source": []
  },
  {
   "cell_type": "code",
   "execution_count": null,
   "metadata": {},
   "outputs": [],
   "source": []
  },
  {
   "cell_type": "code",
   "execution_count": 7,
   "metadata": {},
   "outputs": [
    {
     "data": {
      "text/html": [
       "<div>\n",
       "<style scoped>\n",
       "    .dataframe tbody tr th:only-of-type {\n",
       "        vertical-align: middle;\n",
       "    }\n",
       "\n",
       "    .dataframe tbody tr th {\n",
       "        vertical-align: top;\n",
       "    }\n",
       "\n",
       "    .dataframe thead th {\n",
       "        text-align: right;\n",
       "    }\n",
       "</style>\n",
       "<table border=\"1\" class=\"dataframe\">\n",
       "  <thead>\n",
       "    <tr style=\"text-align: right;\">\n",
       "      <th></th>\n",
       "      <th>halte</th>\n",
       "    </tr>\n",
       "  </thead>\n",
       "  <tbody>\n",
       "    <tr>\n",
       "      <th>0</th>\n",
       "      <td>Karel Doormansingel , Doesburg</td>\n",
       "    </tr>\n",
       "    <tr>\n",
       "      <th>1</th>\n",
       "      <td>Havenstraat , Nijkerk</td>\n",
       "    </tr>\n",
       "    <tr>\n",
       "      <th>2</th>\n",
       "      <td>Rivierweg , Capelle aan den IJssel</td>\n",
       "    </tr>\n",
       "    <tr>\n",
       "      <th>3</th>\n",
       "      <td>Beatrixziekenhuis , Gorinchem</td>\n",
       "    </tr>\n",
       "    <tr>\n",
       "      <th>4</th>\n",
       "      <td>Lips , Dordrecht</td>\n",
       "    </tr>\n",
       "    <tr>\n",
       "      <th>...</th>\n",
       "      <td>...</td>\n",
       "    </tr>\n",
       "    <tr>\n",
       "      <th>11171</th>\n",
       "      <td>Duinbeek , Hoofddorp</td>\n",
       "    </tr>\n",
       "    <tr>\n",
       "      <th>11172</th>\n",
       "      <td>Station (Perron D) , Meppel</td>\n",
       "    </tr>\n",
       "    <tr>\n",
       "      <th>11173</th>\n",
       "      <td>Schelphoek , Serooskerke</td>\n",
       "    </tr>\n",
       "    <tr>\n",
       "      <th>11174</th>\n",
       "      <td>Station , Zandvoort</td>\n",
       "    </tr>\n",
       "    <tr>\n",
       "      <th>11175</th>\n",
       "      <td>Palmelaan , Groningen</td>\n",
       "    </tr>\n",
       "  </tbody>\n",
       "</table>\n",
       "<p>11176 rows × 1 columns</p>\n",
       "</div>"
      ],
      "text/plain": [
       "                                    halte\n",
       "0          Karel Doormansingel , Doesburg\n",
       "1                   Havenstraat , Nijkerk\n",
       "2      Rivierweg , Capelle aan den IJssel\n",
       "3           Beatrixziekenhuis , Gorinchem\n",
       "4                        Lips , Dordrecht\n",
       "...                                   ...\n",
       "11171                Duinbeek , Hoofddorp\n",
       "11172         Station (Perron D) , Meppel\n",
       "11173            Schelphoek , Serooskerke\n",
       "11174                 Station , Zandvoort\n",
       "11175               Palmelaan , Groningen\n",
       "\n",
       "[11176 rows x 1 columns]"
      ]
     },
     "execution_count": 7,
     "metadata": {},
     "output_type": "execute_result"
    }
   ],
   "source": [
    "df_haltes = pd.DataFrame(set(advices_9292[(advices_9292['Modaliteit'] == 'Bus')].Haltenaam_van_rit.unique()).union(set(advices_9292[(advices_9292['Modaliteit'] == 'Bus')].Haltenaam_naar_rit.unique())))\n",
    "df_haltes.columns = ['halte']\n",
    "df_haltes"
   ]
  },
  {
   "cell_type": "code",
   "execution_count": 8,
   "metadata": {},
   "outputs": [
    {
     "data": {
      "text/html": [
       "<div>\n",
       "<style scoped>\n",
       "    .dataframe tbody tr th:only-of-type {\n",
       "        vertical-align: middle;\n",
       "    }\n",
       "\n",
       "    .dataframe tbody tr th {\n",
       "        vertical-align: top;\n",
       "    }\n",
       "\n",
       "    .dataframe thead th {\n",
       "        text-align: right;\n",
       "    }\n",
       "</style>\n",
       "<table border=\"1\" class=\"dataframe\">\n",
       "  <thead>\n",
       "    <tr style=\"text-align: right;\">\n",
       "      <th></th>\n",
       "      <th>naam</th>\n",
       "      <th>plaats</th>\n",
       "    </tr>\n",
       "  </thead>\n",
       "  <tbody>\n",
       "    <tr>\n",
       "      <th>0</th>\n",
       "      <td>Karel Doormansingel</td>\n",
       "      <td>Doesburg</td>\n",
       "    </tr>\n",
       "    <tr>\n",
       "      <th>1</th>\n",
       "      <td>Havenstraat</td>\n",
       "      <td>Nijkerk</td>\n",
       "    </tr>\n",
       "    <tr>\n",
       "      <th>2</th>\n",
       "      <td>Rivierweg</td>\n",
       "      <td>Capelle aan den IJssel</td>\n",
       "    </tr>\n",
       "    <tr>\n",
       "      <th>3</th>\n",
       "      <td>Beatrixziekenhuis</td>\n",
       "      <td>Gorinchem</td>\n",
       "    </tr>\n",
       "    <tr>\n",
       "      <th>4</th>\n",
       "      <td>Lips</td>\n",
       "      <td>Dordrecht</td>\n",
       "    </tr>\n",
       "    <tr>\n",
       "      <th>...</th>\n",
       "      <td>...</td>\n",
       "      <td>...</td>\n",
       "    </tr>\n",
       "    <tr>\n",
       "      <th>11171</th>\n",
       "      <td>Duinbeek</td>\n",
       "      <td>Hoofddorp</td>\n",
       "    </tr>\n",
       "    <tr>\n",
       "      <th>11172</th>\n",
       "      <td>Station (Perron D)</td>\n",
       "      <td>Meppel</td>\n",
       "    </tr>\n",
       "    <tr>\n",
       "      <th>11173</th>\n",
       "      <td>Schelphoek</td>\n",
       "      <td>Serooskerke</td>\n",
       "    </tr>\n",
       "    <tr>\n",
       "      <th>11174</th>\n",
       "      <td>Station</td>\n",
       "      <td>Zandvoort</td>\n",
       "    </tr>\n",
       "    <tr>\n",
       "      <th>11175</th>\n",
       "      <td>Palmelaan</td>\n",
       "      <td>Groningen</td>\n",
       "    </tr>\n",
       "  </tbody>\n",
       "</table>\n",
       "<p>11176 rows × 2 columns</p>\n",
       "</div>"
      ],
      "text/plain": [
       "                       naam                   plaats\n",
       "0      Karel Doormansingel                  Doesburg\n",
       "1              Havenstraat                   Nijkerk\n",
       "2                Rivierweg    Capelle aan den IJssel\n",
       "3        Beatrixziekenhuis                 Gorinchem\n",
       "4                     Lips                 Dordrecht\n",
       "...                     ...                      ...\n",
       "11171             Duinbeek                 Hoofddorp\n",
       "11172   Station (Perron D)                    Meppel\n",
       "11173           Schelphoek               Serooskerke\n",
       "11174              Station                 Zandvoort\n",
       "11175            Palmelaan                 Groningen\n",
       "\n",
       "[11176 rows x 2 columns]"
      ]
     },
     "execution_count": 8,
     "metadata": {},
     "output_type": "execute_result"
    }
   ],
   "source": [
    "df_h = pd.DataFrame(df_haltes.halte.str.split(',',1).tolist(),columns=['naam','plaats'])\n",
    "df_h"
   ]
  },
  {
   "cell_type": "code",
   "execution_count": 61,
   "metadata": {},
   "outputs": [],
   "source": []
  },
  {
   "cell_type": "code",
   "execution_count": 96,
   "metadata": {},
   "outputs": [
    {
     "data": {
      "text/html": [
       "<div>\n",
       "<style scoped>\n",
       "    .dataframe tbody tr th:only-of-type {\n",
       "        vertical-align: middle;\n",
       "    }\n",
       "\n",
       "    .dataframe tbody tr th {\n",
       "        vertical-align: top;\n",
       "    }\n",
       "\n",
       "    .dataframe thead th {\n",
       "        text-align: right;\n",
       "    }\n",
       "</style>\n",
       "<table border=\"1\" class=\"dataframe\">\n",
       "  <thead>\n",
       "    <tr style=\"text-align: right;\">\n",
       "      <th></th>\n",
       "      <th>halte</th>\n",
       "    </tr>\n",
       "  </thead>\n",
       "  <tbody>\n",
       "    <tr>\n",
       "      <th>1161</th>\n",
       "      <td>Station Universiteit , Tilburg</td>\n",
       "    </tr>\n",
       "    <tr>\n",
       "      <th>3825</th>\n",
       "      <td>Universiteitsmuseum , Utrecht</td>\n",
       "    </tr>\n",
       "    <tr>\n",
       "      <th>9638</th>\n",
       "      <td>Universiteitsterrein , Leiden</td>\n",
       "    </tr>\n",
       "    <tr>\n",
       "      <th>9672</th>\n",
       "      <td>Universiteit van Tilburg , Tilburg</td>\n",
       "    </tr>\n",
       "  </tbody>\n",
       "</table>\n",
       "</div>"
      ],
      "text/plain": [
       "                                   halte\n",
       "1161      Station Universiteit , Tilburg\n",
       "3825       Universiteitsmuseum , Utrecht\n",
       "9638       Universiteitsterrein , Leiden\n",
       "9672  Universiteit van Tilburg , Tilburg"
      ]
     },
     "execution_count": 96,
     "metadata": {},
     "output_type": "execute_result"
    }
   ],
   "source": [
    "df_haltes[df_haltes.halte.str.contains(\"Universiteit\")]"
   ]
  },
  {
   "cell_type": "code",
   "execution_count": null,
   "metadata": {},
   "outputs": [],
   "source": []
  },
  {
   "cell_type": "code",
   "execution_count": 103,
   "metadata": {},
   "outputs": [
    {
     "data": {
      "text/html": [
       "<div>\n",
       "<style scoped>\n",
       "    .dataframe tbody tr th:only-of-type {\n",
       "        vertical-align: middle;\n",
       "    }\n",
       "\n",
       "    .dataframe tbody tr th {\n",
       "        vertical-align: top;\n",
       "    }\n",
       "\n",
       "    .dataframe thead th {\n",
       "        text-align: right;\n",
       "    }\n",
       "</style>\n",
       "<table border=\"1\" class=\"dataframe\">\n",
       "  <thead>\n",
       "    <tr style=\"text-align: right;\">\n",
       "      <th></th>\n",
       "      <th>Exploitatiedatum</th>\n",
       "      <th>Concessie</th>\n",
       "      <th>Lijnnummer</th>\n",
       "      <th>Station Herkomst</th>\n",
       "      <th>Station</th>\n",
       "      <th>Totaal</th>\n",
       "    </tr>\n",
       "  </thead>\n",
       "  <tbody>\n",
       "  </tbody>\n",
       "</table>\n",
       "</div>"
      ],
      "text/plain": [
       "Empty DataFrame\n",
       "Columns: [Exploitatiedatum, Concessie, Lijnnummer, Station Herkomst, Station, Totaal]\n",
       "Index: []"
      ]
     },
     "execution_count": 103,
     "metadata": {},
     "output_type": "execute_result"
    }
   ],
   "source": [
    "arriva_passenger_data[(arriva_passenger_data['Station Herkomst'] == 'Station Universiteit , Tilburg') | (arriva_passenger_data['Station']=='Station Universiteit , Tilburg')]"
   ]
  },
  {
   "cell_type": "code",
   "execution_count": 83,
   "metadata": {},
   "outputs": [
    {
     "data": {
      "text/html": [
       "<div>\n",
       "<style scoped>\n",
       "    .dataframe tbody tr th:only-of-type {\n",
       "        vertical-align: middle;\n",
       "    }\n",
       "\n",
       "    .dataframe tbody tr th {\n",
       "        vertical-align: top;\n",
       "    }\n",
       "\n",
       "    .dataframe thead th {\n",
       "        text-align: right;\n",
       "    }\n",
       "</style>\n",
       "<table border=\"1\" class=\"dataframe\">\n",
       "  <thead>\n",
       "    <tr style=\"text-align: right;\">\n",
       "      <th></th>\n",
       "      <th>Concessie</th>\n",
       "      <th>InternLijnnummer</th>\n",
       "      <th>PublieksLijnnummer</th>\n",
       "      <th>Omschrijving</th>\n",
       "      <th>Type</th>\n",
       "    </tr>\n",
       "  </thead>\n",
       "  <tbody>\n",
       "    <tr>\n",
       "      <th>102</th>\n",
       "      <td>Oost-Brabant</td>\n",
       "      <td>90</td>\n",
       "      <td>90</td>\n",
       "      <td>Grave - 's Hertogenbosch</td>\n",
       "      <td>streek</td>\n",
       "    </tr>\n",
       "  </tbody>\n",
       "</table>\n",
       "</div>"
      ],
      "text/plain": [
       "        Concessie  InternLijnnummer  PublieksLijnnummer  \\\n",
       "102  Oost-Brabant                90                  90   \n",
       "\n",
       "                 Omschrijving    Type  \n",
       "102  Grave - 's Hertogenbosch  streek  "
      ]
     },
     "execution_count": 83,
     "metadata": {},
     "output_type": "execute_result"
    }
   ],
   "source": [
    "bus_line_information[(bus_line_information['PublieksLijnnummer']==90)|(bus_line_information['InternLijnnummer']==90)]"
   ]
  },
  {
   "cell_type": "code",
   "execution_count": 102,
   "metadata": {},
   "outputs": [
    {
     "data": {
      "text/html": [
       "<div>\n",
       "<style scoped>\n",
       "    .dataframe tbody tr th:only-of-type {\n",
       "        vertical-align: middle;\n",
       "    }\n",
       "\n",
       "    .dataframe tbody tr th {\n",
       "        vertical-align: top;\n",
       "    }\n",
       "\n",
       "    .dataframe thead th {\n",
       "        text-align: right;\n",
       "    }\n",
       "</style>\n",
       "<table border=\"1\" class=\"dataframe\">\n",
       "  <thead>\n",
       "    <tr style=\"text-align: right;\">\n",
       "      <th></th>\n",
       "      <th>Exploitatiedatum</th>\n",
       "      <th>Concessie</th>\n",
       "      <th>Lijnnummer</th>\n",
       "      <th>Station Herkomst</th>\n",
       "      <th>Station</th>\n",
       "      <th>Totaal</th>\n",
       "    </tr>\n",
       "  </thead>\n",
       "  <tbody>\n",
       "    <tr>\n",
       "      <th>0</th>\n",
       "      <td>1-11-2019</td>\n",
       "      <td>Oost-Brabant</td>\n",
       "      <td>90</td>\n",
       "      <td>Gfn Hanenberg</td>\n",
       "      <td>Ht Aartshertoge</td>\n",
       "      <td>3</td>\n",
       "    </tr>\n",
       "    <tr>\n",
       "      <th>1</th>\n",
       "      <td>1-11-2019</td>\n",
       "      <td>Oost-Brabant</td>\n",
       "      <td>90</td>\n",
       "      <td>Gfn Hanenberg</td>\n",
       "      <td>Ht Busstation</td>\n",
       "      <td>7</td>\n",
       "    </tr>\n",
       "    <tr>\n",
       "      <th>2</th>\n",
       "      <td>1-11-2019</td>\n",
       "      <td>Oost-Brabant</td>\n",
       "      <td>90</td>\n",
       "      <td>Gfn Hanenberg</td>\n",
       "      <td>Ht Stadion</td>\n",
       "      <td>2</td>\n",
       "    </tr>\n",
       "    <tr>\n",
       "      <th>3</th>\n",
       "      <td>1-11-2019</td>\n",
       "      <td>Oost-Brabant</td>\n",
       "      <td>90</td>\n",
       "      <td>Gfn Hanenberg</td>\n",
       "      <td>Sch Europaplein</td>\n",
       "      <td>1</td>\n",
       "    </tr>\n",
       "    <tr>\n",
       "      <th>4</th>\n",
       "      <td>1-11-2019</td>\n",
       "      <td>Oost-Brabant</td>\n",
       "      <td>90</td>\n",
       "      <td>Gfn Papendijk</td>\n",
       "      <td>Grv Busstation</td>\n",
       "      <td>1</td>\n",
       "    </tr>\n",
       "  </tbody>\n",
       "</table>\n",
       "</div>"
      ],
      "text/plain": [
       "  Exploitatiedatum     Concessie  Lijnnummer Station Herkomst  \\\n",
       "0        1-11-2019  Oost-Brabant          90    Gfn Hanenberg   \n",
       "1        1-11-2019  Oost-Brabant          90    Gfn Hanenberg   \n",
       "2        1-11-2019  Oost-Brabant          90    Gfn Hanenberg   \n",
       "3        1-11-2019  Oost-Brabant          90    Gfn Hanenberg   \n",
       "4        1-11-2019  Oost-Brabant          90    Gfn Papendijk   \n",
       "\n",
       "           Station  Totaal  \n",
       "0  Ht Aartshertoge       3  \n",
       "1    Ht Busstation       7  \n",
       "2       Ht Stadion       2  \n",
       "3  Sch Europaplein       1  \n",
       "4   Grv Busstation       1  "
      ]
     },
     "execution_count": 102,
     "metadata": {},
     "output_type": "execute_result"
    }
   ],
   "source": [
    "arriva_passenger_data.head()"
   ]
  },
  {
   "cell_type": "code",
   "execution_count": null,
   "metadata": {},
   "outputs": [],
   "source": []
  },
  {
   "cell_type": "code",
   "execution_count": 10,
   "metadata": {},
   "outputs": [],
   "source": []
  },
  {
   "cell_type": "code",
   "execution_count": 11,
   "metadata": {},
   "outputs": [],
   "source": []
  },
  {
   "cell_type": "code",
   "execution_count": 12,
   "metadata": {},
   "outputs": [],
   "source": []
  },
  {
   "cell_type": "code",
   "execution_count": 12,
   "metadata": {},
   "outputs": [],
   "source": []
  },
  {
   "cell_type": "code",
   "execution_count": 12,
   "metadata": {},
   "outputs": [],
   "source": []
  },
  {
   "cell_type": "code",
   "execution_count": 12,
   "metadata": {},
   "outputs": [],
   "source": []
  },
  {
   "cell_type": "code",
   "execution_count": 12,
   "metadata": {},
   "outputs": [],
   "source": []
  },
  {
   "cell_type": "code",
   "execution_count": 12,
   "metadata": {},
   "outputs": [],
   "source": []
  },
  {
   "cell_type": "code",
   "execution_count": 12,
   "metadata": {},
   "outputs": [],
   "source": []
  },
  {
   "cell_type": "code",
   "execution_count": 12,
   "metadata": {},
   "outputs": [],
   "source": []
  },
  {
   "cell_type": "code",
   "execution_count": null,
   "metadata": {},
   "outputs": [],
   "source": [
    "### MVP: \n",
    "# Given the day of the week, and the source and destination stop, product will predict expected mean bus occupancy for your trip.\n",
    "\n",
    "\n",
    "### Target Variable : Bus Occupancy\n",
    "\n",
    "### Input Variables:\n",
    "### Day (Constructed from Date)\n",
    "### Hour \n",
    "### Source Stop\n",
    "### Destination Stop\n",
    "### \n",
    "\n",
    "\n",
    "### MVP: \n",
    "## To Generate Value from 9292 request_advice data (+ arriva passenger data)\n"
   ]
  },
  {
   "cell_type": "code",
   "execution_count": 18,
   "metadata": {},
   "outputs": [],
   "source": [
    "all_unique_source_stops = np.unique(bus_passenger_data['Station Herkomst'])"
   ]
  },
  {
   "cell_type": "code",
   "execution_count": 19,
   "metadata": {},
   "outputs": [],
   "source": [
    "all_unique_stops = np.unique(bus_passenger_data['Station'])"
   ]
  },
  {
   "cell_type": "code",
   "execution_count": null,
   "metadata": {},
   "outputs": [],
   "source": []
  },
  {
   "cell_type": "code",
   "execution_count": null,
   "metadata": {},
   "outputs": [],
   "source": []
  },
  {
   "cell_type": "code",
   "execution_count": null,
   "metadata": {},
   "outputs": [],
   "source": []
  },
  {
   "cell_type": "code",
   "execution_count": null,
   "metadata": {},
   "outputs": [],
   "source": []
  },
  {
   "cell_type": "code",
   "execution_count": null,
   "metadata": {},
   "outputs": [],
   "source": []
  }
 ],
 "metadata": {
  "kernelspec": {
   "display_name": "Python 3.7.3 64-bit ('base': conda)",
   "language": "python",
   "name": "python37364bitbaseconda5f80219a688f4798b7bb33589d7d3742"
  },
  "language_info": {
   "codemirror_mode": {
    "name": "ipython",
    "version": 3
   },
   "file_extension": ".py",
   "mimetype": "text/x-python",
   "name": "python",
   "nbconvert_exporter": "python",
   "pygments_lexer": "ipython3",
   "version": "3.7.3-final"
  }
 },
 "nbformat": 4,
 "nbformat_minor": 4
}